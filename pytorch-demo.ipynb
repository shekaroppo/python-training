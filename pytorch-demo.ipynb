{
 "cells": [
  {
   "cell_type": "code",
   "execution_count": 5,
   "id": "83502224-7184-4900-81db-607b98bdd1b4",
   "metadata": {},
   "outputs": [
    {
     "name": "stdout",
     "output_type": "stream",
     "text": [
      "torch                     2.4.0\n",
      "torchvision               0.19.0\n"
     ]
    }
   ],
   "source": [
    "!pip list | grep torch"
   ]
  },
  {
   "cell_type": "code",
   "execution_count": 6,
   "id": "cfa025b6-10c0-4875-a192-5276b5573257",
   "metadata": {},
   "outputs": [
    {
     "data": {
      "text/plain": [
       "tensor([[0.2145, 0.3167, 0.6540],\n",
       "        [0.4157, 0.6993, 0.7728],\n",
       "        [0.1264, 0.6378, 0.8876],\n",
       "        [0.0087, 0.3891, 0.4544],\n",
       "        [0.7607, 0.5219, 0.9649]])"
      ]
     },
     "execution_count": 6,
     "metadata": {},
     "output_type": "execute_result"
    }
   ],
   "source": [
    "import torch\n",
    "\n",
    "x = torch.rand(5, 3)\n",
    "x"
   ]
  },
  {
   "cell_type": "code",
   "execution_count": 10,
   "id": "602b7212-d447-43d5-be7d-085afd115b70",
   "metadata": {},
   "outputs": [
    {
     "data": {
      "text/plain": [
       "torch.float32"
      ]
     },
     "execution_count": 10,
     "metadata": {},
     "output_type": "execute_result"
    }
   ],
   "source": [
    "torch.get_default_dtype()\n",
    "torch.set_default_dtype(torch.int)"
   ]
  },
  {
   "cell_type": "code",
   "execution_count": 12,
   "id": "ac4123a8-f1d9-46a8-87ea-bb1b87f7b5b6",
   "metadata": {},
   "outputs": [
    {
     "data": {
      "text/plain": [
       "tensor([[1., 2., 3.],\n",
       "        [4., 5., 6.]])"
      ]
     },
     "execution_count": 12,
     "metadata": {},
     "output_type": "execute_result"
    }
   ],
   "source": [
    "instance1 = torch.Tensor([[1,2,3], [4,5,6]])\n",
    "instance1"
   ]
  },
  {
   "cell_type": "code",
   "execution_count": 15,
   "id": "484c7a33-2b4d-48c5-a4a9-53994d89c6fb",
   "metadata": {},
   "outputs": [
    {
     "data": {
      "text/plain": [
       "15"
      ]
     },
     "execution_count": 15,
     "metadata": {},
     "output_type": "execute_result"
    }
   ],
   "source": [
    "torch.numel(x)"
   ]
  },
  {
   "cell_type": "code",
   "execution_count": 19,
   "id": "b2dcfa8e-c8fd-4ed3-b0ae-1c1ca84c7b62",
   "metadata": {},
   "outputs": [
    {
     "data": {
      "text/plain": [
       "tensor([5., 4.], dtype=torch.float16)"
      ]
     },
     "execution_count": 19,
     "metadata": {},
     "output_type": "execute_result"
    }
   ],
   "source": [
    "# intinstance = torch.Tensor([5, 4]).type(torch.IntTensor)\n",
    "intinstance = torch.Tensor([5, 4]).type(torch.half)\n",
    "intinstance"
   ]
  },
  {
   "cell_type": "code",
   "execution_count": 17,
   "id": "aabcb786-f52f-47a1-8298-666ad533193f",
   "metadata": {},
   "outputs": [
    {
     "data": {
      "text/plain": [
       "tensor([1, 2, 3], dtype=torch.int16)"
      ]
     },
     "execution_count": 17,
     "metadata": {},
     "output_type": "execute_result"
    }
   ],
   "source": [
    "torch.ShortTensor([1.0, 2.0, 3.0])"
   ]
  },
  {
   "cell_type": "code",
   "execution_count": 20,
   "id": "c6a12d47-05a1-4fb5-8711-07609e6204a1",
   "metadata": {},
   "outputs": [
    {
     "data": {
      "text/plain": [
       "tensor([[10, 10, 10, 10, 10, 10],\n",
       "        [10, 10, 10, 10, 10, 10]])"
      ]
     },
     "execution_count": 20,
     "metadata": {},
     "output_type": "execute_result"
    }
   ],
   "source": [
    "filled = torch.full((2, 6), fill_value=10)\n",
    "filled"
   ]
  },
  {
   "cell_type": "code",
   "execution_count": 21,
   "id": "1e355e6d-54cc-43a3-854d-aae168381c2f",
   "metadata": {},
   "outputs": [
    {
     "data": {
      "text/plain": [
       "tensor([[1, 1, 1, 1],\n",
       "        [1, 1, 1, 1]], dtype=torch.int32)"
      ]
     },
     "execution_count": 21,
     "metadata": {},
     "output_type": "execute_result"
    }
   ],
   "source": [
    "ones = torch.ones([2, 4], dtype=torch.int32)\n",
    "ones"
   ]
  },
  {
   "cell_type": "code",
   "execution_count": 22,
   "id": "e69cb196-7c10-4d0d-808e-fdb86294f95d",
   "metadata": {},
   "outputs": [
    {
     "data": {
      "text/plain": [
       "tensor([[0, 0, 0, 0],\n",
       "        [0, 0, 0, 0]], dtype=torch.int32)"
      ]
     },
     "execution_count": 22,
     "metadata": {},
     "output_type": "execute_result"
    }
   ],
   "source": [
    "zeros = torch.zeros_like(ones)\n",
    "zeros"
   ]
  },
  {
   "cell_type": "code",
   "execution_count": 23,
   "id": "0e688ec7-9994-48bd-af78-7cecfefce125",
   "metadata": {},
   "outputs": [
    {
     "data": {
      "text/plain": [
       "tensor([[1., 0., 0., 0., 0.],\n",
       "        [0., 1., 0., 0., 0.],\n",
       "        [0., 0., 1., 0., 0.],\n",
       "        [0., 0., 0., 1., 0.],\n",
       "        [0., 0., 0., 0., 1.]])"
      ]
     },
     "execution_count": 23,
     "metadata": {},
     "output_type": "execute_result"
    }
   ],
   "source": [
    "eye = torch.eye(5)\n",
    "eye"
   ]
  },
  {
   "cell_type": "code",
   "execution_count": 24,
   "id": "a48e56bd-c4d2-4056-8d94-8cb9d8616151",
   "metadata": {},
   "outputs": [
    {
     "data": {
      "text/plain": [
       "tensor([[0, 0],\n",
       "        [1, 1],\n",
       "        [2, 2],\n",
       "        [3, 3],\n",
       "        [4, 4]])"
      ]
     },
     "execution_count": 24,
     "metadata": {},
     "output_type": "execute_result"
    }
   ],
   "source": [
    "non_zero = torch.nonzero(eye)\n",
    "non_zero"
   ]
  },
  {
   "cell_type": "code",
   "execution_count": 27,
   "id": "c7d32e96-2634-4423-977b-14a613ccc917",
   "metadata": {},
   "outputs": [
    {
     "data": {
      "text/plain": [
       "tensor([[0., 1., 1.],\n",
       "        [2., 2., 0.]])"
      ]
     },
     "execution_count": 27,
     "metadata": {},
     "output_type": "execute_result"
    }
   ],
   "source": [
    "hand = torch.tensor([[0, 1, 1], [2 ,2, 0]])\n",
    "hand = torch.tensor([[0, 1, 1], [2 ,2, 0]], dtype=torch.float32)\n",
    "hand"
   ]
  },
  {
   "cell_type": "code",
   "execution_count": 29,
   "id": "507260dc-ab98-48a4-a991-1448a1edf0d0",
   "metadata": {},
   "outputs": [
    {
     "data": {
      "text/plain": [
       "tensor(indices=tensor([[0, 1, 1],\n",
       "                       [2, 2, 0]]),\n",
       "       values=tensor([3, 4, 5]),\n",
       "       size=(2, 5), nnz=3, layout=torch.sparse_coo)"
      ]
     },
     "execution_count": 29,
     "metadata": {},
     "output_type": "execute_result"
    }
   ],
   "source": [
    "i = torch.tensor([[0, 1, 1],\n",
    "                  [2, 2, 0]])\n",
    "\n",
    "v = torch.tensor([3, 4, 5])\n",
    "\n",
    "sparse = torch.sparse_coo_tensor(i, v, [2, 5])\n",
    "sparse.data"
   ]
  },
  {
   "cell_type": "code",
   "execution_count": 30,
   "id": "0cbebe44-c1e4-4e46-994c-250c600569bb",
   "metadata": {},
   "outputs": [
    {
     "data": {
      "text/plain": [
       "tensor(indices=tensor([[0, 1, 1],\n",
       "                       [2, 2, 0]]),\n",
       "       values=tensor([3, 4, 5]),\n",
       "       size=(2, 5), nnz=3, layout=torch.sparse_coo)"
      ]
     },
     "execution_count": 30,
     "metadata": {},
     "output_type": "execute_result"
    }
   ],
   "source": [
    "sparse"
   ]
  },
  {
   "cell_type": "code",
   "execution_count": 31,
   "id": "30335c80-1eea-4fdd-92ca-846b018173fa",
   "metadata": {},
   "outputs": [
    {
     "data": {
      "text/plain": [
       "tensor([[0.2145, 0.3167, 0.6540],\n",
       "        [0.4157, 0.6993, 0.7728],\n",
       "        [0.1264, 0.6378, 0.8876],\n",
       "        [0.0087, 0.3891, 0.4544],\n",
       "        [0.7607, 0.5219, 0.9649]])"
      ]
     },
     "execution_count": 31,
     "metadata": {},
     "output_type": "execute_result"
    }
   ],
   "source": [
    "x"
   ]
  },
  {
   "cell_type": "code",
   "execution_count": 33,
   "id": "b52e27e2-734d-48d6-bc97-372f0c39c15a",
   "metadata": {},
   "outputs": [
    {
     "data": {
      "text/plain": [
       "(tensor([[10., 10., 10.],\n",
       "         [10., 10., 10.],\n",
       "         [10., 10., 10.],\n",
       "         [10., 10., 10.],\n",
       "         [10., 10., 10.]]),\n",
       " tensor([[15., 15., 15.],\n",
       "         [15., 15., 15.],\n",
       "         [15., 15., 15.],\n",
       "         [15., 15., 15.],\n",
       "         [15., 15., 15.]]))"
      ]
     },
     "execution_count": 33,
     "metadata": {},
     "output_type": "execute_result"
    }
   ],
   "source": [
    "x.fill_(10.0)\n",
    "y=x.add(5)\n",
    "(x, y)"
   ]
  },
  {
   "cell_type": "code",
   "execution_count": 34,
   "id": "a3c8e94f-54cd-4c7b-a77a-3885882b2bf8",
   "metadata": {},
   "outputs": [
    {
     "data": {
      "text/plain": [
       "tensor([[15., 15., 15.],\n",
       "        [15., 15., 15.],\n",
       "        [15., 15., 15.],\n",
       "        [15., 15., 15.],\n",
       "        [15., 15., 15.]])"
      ]
     },
     "execution_count": 34,
     "metadata": {},
     "output_type": "execute_result"
    }
   ],
   "source": [
    "x.add_(5)"
   ]
  },
  {
   "cell_type": "code",
   "execution_count": 36,
   "id": "c7aa731f-36d9-48e1-bd70-14d010ea3160",
   "metadata": {},
   "outputs": [
    {
     "data": {
      "text/plain": [
       "tensor([[0.5077, 0.2914, 0.3914],\n",
       "        [0.2023, 0.9378, 0.9065],\n",
       "        [0.8159, 0.9960, 0.7474],\n",
       "        [0.5088, 0.6156, 0.5384],\n",
       "        [0.7365, 0.5388, 0.5832]])"
      ]
     },
     "execution_count": 36,
     "metadata": {},
     "output_type": "execute_result"
    }
   ],
   "source": [
    "x = torch.rand(5, 3)\n",
    "x.sqrt_()\n",
    "x"
   ]
  },
  {
   "cell_type": "code",
   "execution_count": 40,
   "id": "5ed86677-ae55-4c60-958f-74260dd0956c",
   "metadata": {},
   "outputs": [
    {
     "data": {
      "text/plain": [
       "torch.Size([5, 3])"
      ]
     },
     "execution_count": 40,
     "metadata": {},
     "output_type": "execute_result"
    }
   ],
   "source": [
    "x.shape"
   ]
  },
  {
   "cell_type": "code",
   "execution_count": 39,
   "id": "518a41b2-9187-4a82-aefc-a6a898c041de",
   "metadata": {},
   "outputs": [],
   "source": [
    "chunks = torch.chunk(x, 3, 0)"
   ]
  },
  {
   "cell_type": "code",
   "execution_count": 41,
   "id": "4dfa6c3a-1377-4eeb-9b0c-bcb569c6137b",
   "metadata": {},
   "outputs": [
    {
     "data": {
      "text/plain": [
       "(torch.Size([2, 3]), torch.Size([1, 3]))"
      ]
     },
     "execution_count": 41,
     "metadata": {},
     "output_type": "execute_result"
    }
   ],
   "source": [
    "(chunks[0].shape, chunks[-1].shape)"
   ]
  },
  {
   "cell_type": "code",
   "execution_count": 42,
   "id": "c49f3ae3-ce1d-4c03-9b23-291b18fcf9b9",
   "metadata": {},
   "outputs": [
    {
     "data": {
      "text/plain": [
       "(False, True)"
      ]
     },
     "execution_count": 42,
     "metadata": {},
     "output_type": "execute_result"
    }
   ],
   "source": [
    "(torch.cuda.is_available(), torch.backends.mps.is_available())"
   ]
  },
  {
   "cell_type": "code",
   "execution_count": 43,
   "id": "f1deb05e-9edc-45ed-822d-9649278cbdb8",
   "metadata": {},
   "outputs": [
    {
     "data": {
      "text/plain": [
       "torch.Size([4, 3])"
      ]
     },
     "execution_count": 43,
     "metadata": {},
     "output_type": "execute_result"
    }
   ],
   "source": [
    "torch.cat((chunks[0], chunks[1]), 0).shape"
   ]
  },
  {
   "cell_type": "code",
   "execution_count": 45,
   "id": "179e4405-de2b-45b2-8f90-e29a6efa10df",
   "metadata": {},
   "outputs": [
    {
     "data": {
      "text/plain": [
       "tensor(0.5832)"
      ]
     },
     "execution_count": 45,
     "metadata": {},
     "output_type": "execute_result"
    }
   ],
   "source": [
    "x[4, 2]"
   ]
  },
  {
   "cell_type": "code",
   "execution_count": 46,
   "id": "6b8ac89b-b5af-448d-8a96-39fcb73b5c11",
   "metadata": {},
   "outputs": [
    {
     "data": {
      "text/plain": [
       "torch.Size([5, 3])"
      ]
     },
     "execution_count": 46,
     "metadata": {},
     "output_type": "execute_result"
    }
   ],
   "source": [
    "x.size()"
   ]
  },
  {
   "cell_type": "code",
   "execution_count": 51,
   "id": "96d382d8-c3f7-4ae5-8827-79026ee128c4",
   "metadata": {},
   "outputs": [
    {
     "ename": "RuntimeError",
     "evalue": "shape '[5]' is invalid for input of size 15",
     "output_type": "error",
     "traceback": [
      "\u001b[0;31m---------------------------------------------------------------------------\u001b[0m",
      "\u001b[0;31mRuntimeError\u001b[0m                              Traceback (most recent call last)",
      "Cell \u001b[0;32mIn[51], line 1\u001b[0m\n\u001b[0;32m----> 1\u001b[0m x_v \u001b[38;5;241m=\u001b[39m \u001b[43mx\u001b[49m\u001b[38;5;241;43m.\u001b[39;49m\u001b[43mview\u001b[49m\u001b[43m(\u001b[49m\u001b[38;5;241;43m5\u001b[39;49m\u001b[43m)\u001b[49m\n\u001b[1;32m      2\u001b[0m x_v\n",
      "\u001b[0;31mRuntimeError\u001b[0m: shape '[5]' is invalid for input of size 15"
     ]
    }
   ],
   "source": [
    "x_v = x.view(5)\n",
    "x_v"
   ]
  },
  {
   "cell_type": "code",
   "execution_count": null,
   "id": "e84adb57-ed22-4c4b-91aa-4df83bc7cf42",
   "metadata": {},
   "outputs": [],
   "source": [
    "torch.unsqueeze(x, 2)"
   ]
  },
  {
   "cell_type": "code",
   "execution_count": 52,
   "id": "f9905bfe-aa57-47b5-ba28-f5bee57890a8",
   "metadata": {},
   "outputs": [
    {
     "data": {
      "text/plain": [
       "tensor([[0.5077, 0.2023, 0.8159, 0.5088, 0.7365],\n",
       "        [0.2914, 0.9378, 0.9960, 0.6156, 0.5388],\n",
       "        [0.3914, 0.9065, 0.7474, 0.5384, 0.5832]])"
      ]
     },
     "execution_count": 52,
     "metadata": {},
     "output_type": "execute_result"
    }
   ],
   "source": [
    "torch.transpose(x, 0, 1)"
   ]
  },
  {
   "cell_type": "code",
   "execution_count": 53,
   "id": "c0e5d34b-aacc-44c5-b092-3007dac30d86",
   "metadata": {},
   "outputs": [
    {
     "data": {
      "text/plain": [
       "(tensor([[0.2914, 0.3914, 0.5077],\n",
       "         [0.2023, 0.9065, 0.9378],\n",
       "         [0.7474, 0.8159, 0.9960],\n",
       "         [0.5088, 0.5384, 0.6156],\n",
       "         [0.5388, 0.5832, 0.7365]]),\n",
       " tensor([[1, 2, 0],\n",
       "         [0, 2, 1],\n",
       "         [2, 0, 1],\n",
       "         [0, 2, 1],\n",
       "         [1, 2, 0]]))"
      ]
     },
     "execution_count": 53,
     "metadata": {},
     "output_type": "execute_result"
    }
   ],
   "source": [
    "sorted_tensor, sorted_indices = torch.sort(x)\n",
    "(sorted_tensor, sorted_indices)"
   ]
  },
  {
   "cell_type": "code",
   "execution_count": null,
   "id": "7b5dd848-2a8a-45a2-9df0-a0e29911d214",
   "metadata": {},
   "outputs": [],
   "source": [
    "a = torch.abs(x)\n",
    "x2 = x + x\n",
    "xdiv = torch.div(x, x+0.3)\n",
    "xm = torch.mul(x, x)\n",
    "torch.clamp\n",
    "torch.dot\n",
    "torch.mv\n",
    "torch.mm\n",
    "torch.argmax(x, dim=1)\n",
    "torch.argmin(x, dim=1)\n"
   ]
  },
  {
   "cell_type": "code",
   "execution_count": 57,
   "id": "9515b7ce-6517-48b8-9cab-36428bdea64d",
   "metadata": {},
   "outputs": [
    {
     "data": {
      "text/plain": [
       "tensor([[0.1500, 0.1500, 0.1500],\n",
       "        [0.4429, 0.7123, 0.6556],\n",
       "        [0.8296, 0.5755, 0.3518],\n",
       "        [0.5672, 0.4608, 0.8529],\n",
       "        [0.3976, 0.5908, 0.4237]])"
      ]
     },
     "execution_count": 57,
     "metadata": {},
     "output_type": "execute_result"
    }
   ],
   "source": [
    "import numpy as np\n",
    "\n",
    "tens = torch.rand(5, 3)\n",
    "\n",
    "num_arr  = tens.numpy()\n",
    "\n",
    "num_arr[0, 0]=0.15\n",
    "tens[0, 0]\n",
    "\n",
    "num_arr[0]=0.15\n",
    "\n",
    "tens"
   ]
  },
  {
   "cell_type": "code",
   "execution_count": 56,
   "id": "a2be6b1b-9232-4975-bb92-a5954f9d11c6",
   "metadata": {},
   "outputs": [
    {
     "data": {
      "text/plain": [
       "numpy.ndarray"
      ]
     },
     "execution_count": 56,
     "metadata": {},
     "output_type": "execute_result"
    }
   ],
   "source": [
    "type(num_arr)"
   ]
  },
  {
   "cell_type": "code",
   "execution_count": 58,
   "id": "7754c7f4-5a04-4414-8077-562aae2c58f7",
   "metadata": {},
   "outputs": [
    {
     "data": {
      "text/plain": [
       "torch.Tensor"
      ]
     },
     "execution_count": 58,
     "metadata": {},
     "output_type": "execute_result"
    }
   ],
   "source": [
    "ta = torch.as_tensor(np.array([4, 8]))\n",
    "type(ta)"
   ]
  },
  {
   "cell_type": "code",
   "execution_count": 60,
   "id": "83724636-0841-4f96-ae1e-e1e601661c81",
   "metadata": {},
   "outputs": [
    {
     "data": {
      "text/plain": [
       "tensor([2, 2])"
      ]
     },
     "execution_count": 60,
     "metadata": {},
     "output_type": "execute_result"
    }
   ],
   "source": [
    "ncp = torch.tensor(np.array([2,2]))\n",
    "ncp"
   ]
  },
  {
   "cell_type": "code",
   "execution_count": null,
   "id": "13363aaf-ea10-4102-974c-57de004ffcc0",
   "metadata": {},
   "outputs": [],
   "source": [
    "CUDA_LAUNCH_BLOCKING = 1"
   ]
  },
  {
   "cell_type": "code",
   "execution_count": null,
   "id": "cee5c639-a372-4144-b5dd-ae27c727c3fd",
   "metadata": {},
   "outputs": [],
   "source": [
    "torch.cuda.init()\n",
    "torch.cuda.current_device()\n",
    "torch.cuda.memory_allocated()\n",
    "torch.cuda.memory_cached()\n",
    "torch.cuda.empty_cache()"
   ]
  },
  {
   "cell_type": "code",
   "execution_count": 62,
   "id": "c8893e0d-ee5c-4acc-9128-9c4b2f948c4f",
   "metadata": {},
   "outputs": [
    {
     "data": {
      "text/plain": [
       "device(type='cuda')"
      ]
     },
     "execution_count": 62,
     "metadata": {},
     "output_type": "execute_result"
    }
   ],
   "source": [
    "cuda = torch.device('cuda')\n",
    "cuda"
   ]
  },
  {
   "cell_type": "code",
   "execution_count": 64,
   "id": "e6cc45ec-2307-4f3d-b616-38e45cc515fc",
   "metadata": {},
   "outputs": [],
   "source": [
    "cuda0 = torch.device('cuda:0')\n",
    "cuda1 = torch.device('cuda:1')"
   ]
  },
  {
   "cell_type": "code",
   "execution_count": 65,
   "id": "8502066b-c2d2-4725-8b0f-26acf58f83f5",
   "metadata": {},
   "outputs": [
    {
     "ename": "AssertionError",
     "evalue": "Torch not compiled with CUDA enabled",
     "output_type": "error",
     "traceback": [
      "\u001b[0;31m---------------------------------------------------------------------------\u001b[0m",
      "\u001b[0;31mAssertionError\u001b[0m                            Traceback (most recent call last)",
      "Cell \u001b[0;32mIn[65], line 1\u001b[0m\n\u001b[0;32m----> 1\u001b[0m x \u001b[38;5;241m=\u001b[39m \u001b[43mtorch\u001b[49m\u001b[38;5;241;43m.\u001b[39;49m\u001b[43mtensor\u001b[49m\u001b[43m(\u001b[49m\u001b[43m[\u001b[49m\u001b[38;5;241;43m10.\u001b[39;49m\u001b[43m,\u001b[49m\u001b[43m \u001b[49m\u001b[38;5;241;43m10.\u001b[39;49m\u001b[43m]\u001b[49m\u001b[43m,\u001b[49m\u001b[43m \u001b[49m\u001b[43mdevice\u001b[49m\u001b[38;5;241;43m=\u001b[39;49m\u001b[43mcuda0\u001b[49m\u001b[43m)\u001b[49m\n",
      "File \u001b[0;32m~/Ds/lab12/lib/python3.12/site-packages/torch/cuda/__init__.py:305\u001b[0m, in \u001b[0;36m_lazy_init\u001b[0;34m()\u001b[0m\n\u001b[1;32m    300\u001b[0m     \u001b[38;5;28;01mraise\u001b[39;00m \u001b[38;5;167;01mRuntimeError\u001b[39;00m(\n\u001b[1;32m    301\u001b[0m         \u001b[38;5;124m\"\u001b[39m\u001b[38;5;124mCannot re-initialize CUDA in forked subprocess. To use CUDA with \u001b[39m\u001b[38;5;124m\"\u001b[39m\n\u001b[1;32m    302\u001b[0m         \u001b[38;5;124m\"\u001b[39m\u001b[38;5;124mmultiprocessing, you must use the \u001b[39m\u001b[38;5;124m'\u001b[39m\u001b[38;5;124mspawn\u001b[39m\u001b[38;5;124m'\u001b[39m\u001b[38;5;124m start method\u001b[39m\u001b[38;5;124m\"\u001b[39m\n\u001b[1;32m    303\u001b[0m     )\n\u001b[1;32m    304\u001b[0m \u001b[38;5;28;01mif\u001b[39;00m \u001b[38;5;129;01mnot\u001b[39;00m \u001b[38;5;28mhasattr\u001b[39m(torch\u001b[38;5;241m.\u001b[39m_C, \u001b[38;5;124m\"\u001b[39m\u001b[38;5;124m_cuda_getDeviceCount\u001b[39m\u001b[38;5;124m\"\u001b[39m):\n\u001b[0;32m--> 305\u001b[0m     \u001b[38;5;28;01mraise\u001b[39;00m \u001b[38;5;167;01mAssertionError\u001b[39;00m(\u001b[38;5;124m\"\u001b[39m\u001b[38;5;124mTorch not compiled with CUDA enabled\u001b[39m\u001b[38;5;124m\"\u001b[39m)\n\u001b[1;32m    306\u001b[0m \u001b[38;5;28;01mif\u001b[39;00m _cudart \u001b[38;5;129;01mis\u001b[39;00m \u001b[38;5;28;01mNone\u001b[39;00m:\n\u001b[1;32m    307\u001b[0m     \u001b[38;5;28;01mraise\u001b[39;00m \u001b[38;5;167;01mAssertionError\u001b[39;00m(\n\u001b[1;32m    308\u001b[0m         \u001b[38;5;124m\"\u001b[39m\u001b[38;5;124mlibcudart functions unavailable. It looks like you have a broken build?\u001b[39m\u001b[38;5;124m\"\u001b[39m\n\u001b[1;32m    309\u001b[0m     )\n",
      "\u001b[0;31mAssertionError\u001b[0m: Torch not compiled with CUDA enabled"
     ]
    }
   ],
   "source": [
    "x = torch.tensor([10., 10.], device=cuda0)"
   ]
  },
  {
   "cell_type": "code",
   "execution_count": null,
   "id": "c2dde31a-e294-4b76-849c-a6ab537adba1",
   "metadata": {},
   "outputs": [],
   "source": [
    "x.to(device='cuda:1')\n",
    "x.copy_(device='cuda:0')\n",
    "x.new_full"
   ]
  },
  {
   "cell_type": "code",
   "execution_count": null,
   "id": "7813ce4e-4cf4-447e-a585-c251771138f0",
   "metadata": {},
   "outputs": [],
   "source": [
    "torch.enable_grad()\n",
    "torch.requires_grad()\n",
    "torch.disable_grad()\n",
    "x.grad\n",
    "x.backward()\n",
    "x.detach()"
   ]
  },
  {
   "cell_type": "code",
   "execution_count": 1,
   "id": "21892703-7dc7-4741-85ac-2adf9290b4e8",
   "metadata": {},
   "outputs": [],
   "source": [
    "import numpy as np\n",
    "import matplotlib.pyplot as plt"
   ]
  },
  {
   "cell_type": "code",
   "execution_count": 2,
   "id": "cfc43b8f-35e7-4f59-b57c-be361fa95d32",
   "metadata": {},
   "outputs": [],
   "source": [
    "x_train = np.array ([[4.7], [2.4], [7.5], [7.1], [4.3], [7.816], \n",
    "                     [8.9], [5.2], [8.59], [2.1], [8] , \n",
    "                     [10], [4.5], [6], [4]],\n",
    "                    dtype = np.float32)\n",
    "\n",
    "y_train = np.array ([[2.6], [1.6], [3.09], [2.4], [2.4], [3.357], \n",
    "                     [2.6], [1.96], [3.53], [1.76], [3.2] , \n",
    "                     [3.5], [1.6], [2.5], [2.2]], \n",
    "                    dtype = np.float32)"
   ]
  },
  {
   "cell_type": "code",
   "execution_count": 3,
   "id": "f8289450-b96a-409c-960e-2bcc1dd7aa9d",
   "metadata": {},
   "outputs": [
    {
     "data": {
      "image/png": "[encoded data removed]",
      "text/plain": [
       "<Figure size 1200x800 with 1 Axes>"
      ]
     },
     "metadata": {},
     "output_type": "display_data"
    }
   ],
   "source": [
    "plt.figure(figsize=(12, 8))\n",
    "\n",
    "plt.scatter(x_train, y_train, label='Orig Daa', s=250, c='g')\n",
    "plt.legend()\n",
    "plt.show()"
   ]
  },
  {
   "cell_type": "code",
   "execution_count": 4,
   "id": "04dd49d2-ad2e-4ec5-b91e-01384f598c4d",
   "metadata": {},
   "outputs": [
    {
     "name": "stdout",
     "output_type": "stream",
     "text": [
      "requires_grad for X_train:  False\n",
      "requires_grad for Y_train:  False\n"
     ]
    }
   ],
   "source": [
    "import torch\n",
    "\n",
    "X_train = torch.from_numpy(x_train)\n",
    "Y_train = torch.from_numpy(y_train)\n",
    "\n",
    "print('requires_grad for X_train: ', X_train.requires_grad)\n",
    "print('requires_grad for Y_train: ', Y_train.requires_grad)"
   ]
  },
  {
   "cell_type": "code",
   "execution_count": 5,
   "id": "da204790-6ecd-4cc7-a233-a082c8c853ff",
   "metadata": {},
   "outputs": [],
   "source": [
    "input_size = 1\n",
    "hidden_size = 4\n",
    "output_size = 1"
   ]
  },
  {
   "cell_type": "code",
   "execution_count": 6,
   "id": "747a5626-6f58-4743-9522-09198602edf9",
   "metadata": {},
   "outputs": [
    {
     "data": {
      "text/plain": [
       "torch.Size([1, 4])"
      ]
     },
     "execution_count": 6,
     "metadata": {},
     "output_type": "execute_result"
    }
   ],
   "source": [
    "w1 = torch.rand(input_size, \n",
    "                hidden_size, \n",
    "                requires_grad=True)\n",
    "w1.shape"
   ]
  },
  {
   "cell_type": "code",
   "execution_count": 7,
   "id": "358f02d3-fbb2-4a2b-9b36-2d3a222e39ca",
   "metadata": {},
   "outputs": [
    {
     "data": {
      "text/plain": [
       "torch.Size([4, 1])"
      ]
     },
     "execution_count": 7,
     "metadata": {},
     "output_type": "execute_result"
    }
   ],
   "source": [
    "w2 = torch.rand(hidden_size, \n",
    "                output_size, \n",
    "                requires_grad=True)\n",
    "w2.shape"
   ]
  },
  {
   "cell_type": "code",
   "execution_count": 8,
   "id": "fa483b23-aafb-4e69-9870-72e6f44e72b3",
   "metadata": {},
   "outputs": [],
   "source": [
    "learning_rate = 1e-6"
   ]
  },
  {
   "cell_type": "code",
   "execution_count": 13,
   "id": "41802323-4f49-477b-be64-d45eae5e41ae",
   "metadata": {},
   "outputs": [],
   "source": [
    "for iter in range(1, 5000):\n",
    "    \n",
    "    y_pred = X_train.mm(w1).mm(w2)\n",
    "    loss = (y_pred - Y_train).pow(2).sum()\n",
    "    \n",
    "    if iter % 50 ==0:\n",
    "        print(iter, loss.item())\n",
    "        \n",
    "    loss.backward()\n",
    "    \n",
    "    with torch.no_grad():\n",
    "        w1 -= learning_rate * w1.grad\n",
    "        w2 -= learning_rate * w2.grad\n",
    "        w1.grad.zero_()\n",
    "        w2.grad.zero_()"
   ]
  },
  {
   "cell_type": "code",
   "execution_count": 28,
   "id": "752ba4f3-376f-4ca0-853e-01ea79fe2672",
   "metadata": {},
   "outputs": [
    {
     "name": "stdout",
     "output_type": "stream",
     "text": [
      "w1:  tensor([[0.1342, 0.0352, 0.4708, 0.7007]], requires_grad=True)\n",
      "w2:  tensor([[-0.0204],\n",
      "        [ 0.7896],\n",
      "        [ 0.6466],\n",
      "        [ 0.0958]], requires_grad=True)\n"
     ]
    }
   ],
   "source": [
    "print ('w1: ', w1)\n",
    "print ('w2: ', w2)"
   ]
  },
  {
   "cell_type": "code",
   "execution_count": 11,
   "id": "a6a07ff5-4ba9-407d-8808-80c7f7ab75a7",
   "metadata": {},
   "outputs": [
    {
     "data": {
      "text/plain": [
       "array([[1.8642628],\n",
       "       [0.951964 ],\n",
       "       [2.9748874],\n",
       "       [2.816227 ],\n",
       "       [1.7056024],\n",
       "       [3.1002295],\n",
       "       [3.5302   ],\n",
       "       [2.0625887],\n",
       "       [3.4072382],\n",
       "       [0.8329685],\n",
       "       [3.1732135],\n",
       "       [3.966517 ],\n",
       "       [1.7849327],\n",
       "       [2.37991  ],\n",
       "       [1.5866067]], dtype=float32)"
      ]
     },
     "execution_count": 11,
     "metadata": {},
     "output_type": "execute_result"
    }
   ],
   "source": [
    "x_train_tensor = torch.from_numpy(x_train)\n",
    "predicted_in_tensor = x_train_tensor.mm(w1).mm(w2)\n",
    "predicted = predicted_in_tensor.detach().numpy()\n",
    "predicted"
   ]
  },
  {
   "cell_type": "code",
   "execution_count": 12,
   "id": "98780f8e-1f8a-46ec-8ea4-5d06164abcc6",
   "metadata": {},
   "outputs": [
    {
     "data": {
      "image/png": "[encoded data removed]",
      "text/plain": [
       "<Figure size 1200x800 with 1 Axes>"
      ]
     },
     "metadata": {},
     "output_type": "display_data"
    }
   ],
   "source": [
    "plt.figure(figsize=(12, 8))\n",
    "\n",
    "plt.scatter(x_train, y_train, label = 'Original data', s=250, c='g') \n",
    "plt.plot(x_train, predicted, label = 'Fitted line ')\n",
    "\n",
    "plt.legend() \n",
    "plt.show()"
   ]
  },
  {
   "cell_type": "code",
   "execution_count": 14,
   "id": "38090615-d790-4608-a717-dcf4d34ba88a",
   "metadata": {},
   "outputs": [],
   "source": [
    "x = torch.ones(5)"
   ]
  },
  {
   "cell_type": "code",
   "execution_count": 15,
   "id": "b066edfe-18e0-4145-8874-3fb8227aa128",
   "metadata": {},
   "outputs": [
    {
     "data": {
      "text/plain": [
       "(tensor([1., 1., 1., 1., 1.]), None, None)"
      ]
     },
     "execution_count": 15,
     "metadata": {},
     "output_type": "execute_result"
    }
   ],
   "source": [
    "(x, x.grad, x.grad_fn)"
   ]
  },
  {
   "cell_type": "code",
   "execution_count": 16,
   "id": "3ea7c0f7-1403-4f46-b818-b54906da0c15",
   "metadata": {},
   "outputs": [],
   "source": [
    "y = torch.zeros(3)"
   ]
  },
  {
   "cell_type": "code",
   "execution_count": 17,
   "id": "99aeb1e0-2e8a-4548-adf4-f99fbfbf5037",
   "metadata": {},
   "outputs": [],
   "source": [
    "w = torch.randn(5, 3, requires_grad=True)"
   ]
  },
  {
   "cell_type": "code",
   "execution_count": 18,
   "id": "121614ba-95ee-4691-840f-5b77df2e5769",
   "metadata": {},
   "outputs": [
    {
     "data": {
      "text/plain": [
       "(tensor([[ 0.5814, -1.5928, -1.0426],\n",
       "         [ 1.2085, -0.3290, -0.1411],\n",
       "         [-1.3742, -2.2270, -0.3453],\n",
       "         [ 1.6168,  0.0446, -0.3430],\n",
       "         [-0.9042,  1.1351,  0.4249]], requires_grad=True),\n",
       " None,\n",
       " None)"
      ]
     },
     "execution_count": 18,
     "metadata": {},
     "output_type": "execute_result"
    }
   ],
   "source": [
    "(w, w.grad, w.grad_fn)"
   ]
  },
  {
   "cell_type": "code",
   "execution_count": 19,
   "id": "3477d3c4-e66e-46ee-a01e-4dec9f309796",
   "metadata": {},
   "outputs": [
    {
     "data": {
      "text/plain": [
       "(tensor([ 0.3872, -1.1542, -0.3268], requires_grad=True), None, None)"
      ]
     },
     "execution_count": 19,
     "metadata": {},
     "output_type": "execute_result"
    }
   ],
   "source": [
    "b = torch.randn(3, requires_grad=True)\n",
    "(b, b.grad, b.grad_fn)"
   ]
  },
  {
   "cell_type": "code",
   "execution_count": 21,
   "id": "69147cf7-616f-4b62-b6bb-5c889d24433f",
   "metadata": {},
   "outputs": [
    {
     "data": {
      "text/plain": [
       "(tensor([ 1.5156, -4.1232, -1.7738], grad_fn=<AddBackward0>),\n",
       " <AddBackward0 at 0x12ff27790>)"
      ]
     },
     "execution_count": 21,
     "metadata": {},
     "output_type": "execute_result"
    }
   ],
   "source": [
    "z = torch.matmul(x, w) + b\n",
    "(z, z.grad_fn)"
   ]
  },
  {
   "cell_type": "code",
   "execution_count": 27,
   "id": "9b3cc8e6-0c55-43be-915d-095b1b6fad94",
   "metadata": {},
   "outputs": [
    {
     "data": {
      "text/plain": [
       "(tensor([[0.2733, 0.0053, 0.0484],\n",
       "         [0.2733, 0.0053, 0.0484],\n",
       "         [0.2733, 0.0053, 0.0484],\n",
       "         [0.2733, 0.0053, 0.0484],\n",
       "         [0.2733, 0.0053, 0.0484]]),\n",
       " None,\n",
       " tensor([0.2733, 0.0053, 0.0484]),\n",
       " None)"
      ]
     },
     "execution_count": 27,
     "metadata": {},
     "output_type": "execute_result"
    }
   ],
   "source": [
    "(w.grad, w.grad_fn, b.grad, b.grad_fn)"
   ]
  },
  {
   "cell_type": "code",
   "execution_count": 24,
   "id": "e52b7d60-2ba6-40d7-aee6-a7846c7a728c",
   "metadata": {},
   "outputs": [
    {
     "data": {
      "text/plain": [
       "(<AddBackward0 at 0x12ff27790>,\n",
       " <BinaryCrossEntropyWithLogitsBackward0 at 0x12ff15cc0>)"
      ]
     },
     "execution_count": 24,
     "metadata": {},
     "output_type": "execute_result"
    }
   ],
   "source": [
    "loss = torch.nn.functional.binary_cross_entropy_with_logits(z, y)\n",
    "(z.grad_fn, loss.grad_fn)"
   ]
  },
  {
   "cell_type": "code",
   "execution_count": 25,
   "id": "bbd948b2-ad40-48ab-87dd-08521d32cd36",
   "metadata": {},
   "outputs": [
    {
     "data": {
      "text/plain": [
       "(None, None)"
      ]
     },
     "execution_count": 25,
     "metadata": {},
     "output_type": "execute_result"
    }
   ],
   "source": [
    "(w.grad, b.grad)"
   ]
  },
  {
   "cell_type": "code",
   "execution_count": 26,
   "id": "1724311c-0ca4-4c2a-8379-abc939623dd3",
   "metadata": {},
   "outputs": [
    {
     "data": {
      "text/plain": [
       "(tensor([[0.2733, 0.0053, 0.0484],\n",
       "         [0.2733, 0.0053, 0.0484],\n",
       "         [0.2733, 0.0053, 0.0484],\n",
       "         [0.2733, 0.0053, 0.0484],\n",
       "         [0.2733, 0.0053, 0.0484]]),\n",
       " tensor([0.2733, 0.0053, 0.0484]))"
      ]
     },
     "execution_count": 26,
     "metadata": {},
     "output_type": "execute_result"
    }
   ],
   "source": [
    "loss.backward()\n",
    "(w.grad, b.grad)"
   ]
  }
 ],
 "metadata": {
  "kernelspec": {
   "display_name": "Python 3 (ipykernel)",
   "language": "python",
   "name": "python3"
  },
  "language_info": {
   "codemirror_mode": {
    "name": "ipython",
    "version": 3
   },
   "file_extension": ".py",
   "mimetype": "text/x-python",
   "name": "python",
   "nbconvert_exporter": "python",
   "pygments_lexer": "ipython3",
   "version": "3.12.4"
  }
 },
 "nbformat": 4,
 "nbformat_minor": 5
}
